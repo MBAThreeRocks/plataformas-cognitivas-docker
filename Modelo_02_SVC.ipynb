{
  "nbformat": 4,
  "nbformat_minor": 0,
  "metadata": {
    "colab": {
      "name": "Modelo 02 SVC.ipynb",
      "provenance": []
    },
    "kernelspec": {
      "name": "python3",
      "display_name": "Python 3"
    }
  },
  "cells": [
    {
      "cell_type": "code",
      "metadata": {
        "id": "LNu1yBokTZwp"
      },
      "source": [
        "#imports\n",
        "import pandas as pd\n",
        "import seaborn as sb\n",
        "\n",
        "from sklearn.preprocessing import StandardScaler\n",
        "from sklearn.svm import SVC\n",
        "from sklearn.metrics import confusion_matrix\n",
        "from sklearn.metrics import classification_report, plot_confusion_matrix, accuracy_score\n",
        "from sklearn.model_selection import train_test_split\n",
        "\n"
      ],
      "execution_count": 88,
      "outputs": []
    },
    {
      "cell_type": "code",
      "metadata": {
        "colab": {
          "base_uri": "https://localhost:8080/",
          "height": 204
        },
        "id": "TiVDGA0OUD4m",
        "outputId": "923eec85-a2be-4fce-9ee0-6b5d84813e09"
      },
      "source": [
        "df = pd.read_csv('https://raw.githubusercontent.com/MBAThreeRocks/plataformas-cognitivas-docker/master/database/BaseDefault02.csv')\n",
        "df.head()"
      ],
      "execution_count": 89,
      "outputs": [
        {
          "output_type": "execute_result",
          "data": {
            "text/html": [
              "<div>\n",
              "<style scoped>\n",
              "    .dataframe tbody tr th:only-of-type {\n",
              "        vertical-align: middle;\n",
              "    }\n",
              "\n",
              "    .dataframe tbody tr th {\n",
              "        vertical-align: top;\n",
              "    }\n",
              "\n",
              "    .dataframe thead th {\n",
              "        text-align: right;\n",
              "    }\n",
              "</style>\n",
              "<table border=\"1\" class=\"dataframe\">\n",
              "  <thead>\n",
              "    <tr style=\"text-align: right;\">\n",
              "      <th></th>\n",
              "      <th>nome</th>\n",
              "      <th>renda</th>\n",
              "      <th>idade</th>\n",
              "      <th>etnia</th>\n",
              "      <th>sexo</th>\n",
              "      <th>casapropria</th>\n",
              "      <th>outrasrendas</th>\n",
              "      <th>estadocivil</th>\n",
              "      <th>escolaridade</th>\n",
              "      <th>default</th>\n",
              "    </tr>\n",
              "  </thead>\n",
              "  <tbody>\n",
              "    <tr>\n",
              "      <th>0</th>\n",
              "      <td>Manley, Peel</td>\n",
              "      <td>3526.775946</td>\n",
              "      <td>40.188964</td>\n",
              "      <td>0</td>\n",
              "      <td>0</td>\n",
              "      <td>0</td>\n",
              "      <td>0</td>\n",
              "      <td>1</td>\n",
              "      <td>1</td>\n",
              "      <td>0</td>\n",
              "    </tr>\n",
              "    <tr>\n",
              "      <th>1</th>\n",
              "      <td>Jehu, Mendez</td>\n",
              "      <td>2778.325564</td>\n",
              "      <td>40.767674</td>\n",
              "      <td>1</td>\n",
              "      <td>0</td>\n",
              "      <td>0</td>\n",
              "      <td>0</td>\n",
              "      <td>0</td>\n",
              "      <td>0</td>\n",
              "      <td>1</td>\n",
              "    </tr>\n",
              "    <tr>\n",
              "      <th>2</th>\n",
              "      <td>Abdul Baari, al-Muhammed</td>\n",
              "      <td>3713.987220</td>\n",
              "      <td>42.495401</td>\n",
              "      <td>0</td>\n",
              "      <td>0</td>\n",
              "      <td>0</td>\n",
              "      <td>0</td>\n",
              "      <td>0</td>\n",
              "      <td>2</td>\n",
              "      <td>1</td>\n",
              "    </tr>\n",
              "    <tr>\n",
              "      <th>3</th>\n",
              "      <td>Samuel, Mekonnen</td>\n",
              "      <td>5079.662011</td>\n",
              "      <td>36.422451</td>\n",
              "      <td>0</td>\n",
              "      <td>0</td>\n",
              "      <td>1</td>\n",
              "      <td>0</td>\n",
              "      <td>1</td>\n",
              "      <td>0</td>\n",
              "      <td>0</td>\n",
              "    </tr>\n",
              "    <tr>\n",
              "      <th>4</th>\n",
              "      <td>Michael, Navajo</td>\n",
              "      <td>2686.503464</td>\n",
              "      <td>40.992398</td>\n",
              "      <td>1</td>\n",
              "      <td>0</td>\n",
              "      <td>0</td>\n",
              "      <td>1</td>\n",
              "      <td>0</td>\n",
              "      <td>1</td>\n",
              "      <td>1</td>\n",
              "    </tr>\n",
              "  </tbody>\n",
              "</table>\n",
              "</div>"
            ],
            "text/plain": [
              "                       nome        renda  ...  escolaridade  default\n",
              "0              Manley, Peel  3526.775946  ...             1        0\n",
              "1              Jehu, Mendez  2778.325564  ...             0        1\n",
              "2  Abdul Baari, al-Muhammed  3713.987220  ...             2        1\n",
              "3          Samuel, Mekonnen  5079.662011  ...             0        0\n",
              "4           Michael, Navajo  2686.503464  ...             1        1\n",
              "\n",
              "[5 rows x 10 columns]"
            ]
          },
          "metadata": {
            "tags": []
          },
          "execution_count": 89
        }
      ]
    },
    {
      "cell_type": "code",
      "metadata": {
        "colab": {
          "base_uri": "https://localhost:8080/",
          "height": 296
        },
        "id": "OaTXwHy_VgDr",
        "outputId": "951edf5d-f674-4c66-8e3e-dda8567789c0"
      },
      "source": [
        "sb.countplot(x='default',data=df, palette='hls')"
      ],
      "execution_count": 90,
      "outputs": [
        {
          "output_type": "execute_result",
          "data": {
            "text/plain": [
              "<matplotlib.axes._subplots.AxesSubplot at 0x7f3f1448d208>"
            ]
          },
          "metadata": {
            "tags": []
          },
          "execution_count": 90
        },
        {
          "output_type": "display_data",
          "data": {
            "image/png": "[encoded data removed]",
            "text/plain": [
              "<Figure size 432x288 with 1 Axes>"
            ]
          },
          "metadata": {
            "tags": [],
            "needs_background": "light"
          }
        }
      ]
    },
    {
      "cell_type": "code",
      "metadata": {
        "colab": {
          "base_uri": "https://localhost:8080/"
        },
        "id": "Ro9L3wRHV28F",
        "outputId": "4bab208a-2ffc-4576-e4bd-36f11c518d6c"
      },
      "source": [
        "#Sem nulos\n",
        "df.info()"
      ],
      "execution_count": 91,
      "outputs": [
        {
          "output_type": "stream",
          "text": [
            "<class 'pandas.core.frame.DataFrame'>\n",
            "RangeIndex: 50000 entries, 0 to 49999\n",
            "Data columns (total 10 columns):\n",
            " #   Column        Non-Null Count  Dtype  \n",
            "---  ------        --------------  -----  \n",
            " 0   nome          50000 non-null  object \n",
            " 1   renda         50000 non-null  float64\n",
            " 2   idade         50000 non-null  float64\n",
            " 3   etnia         50000 non-null  int64  \n",
            " 4   sexo          50000 non-null  int64  \n",
            " 5   casapropria   50000 non-null  int64  \n",
            " 6   outrasrendas  50000 non-null  int64  \n",
            " 7   estadocivil   50000 non-null  int64  \n",
            " 8   escolaridade  50000 non-null  int64  \n",
            " 9   default       50000 non-null  int64  \n",
            "dtypes: float64(2), int64(7), object(1)\n",
            "memory usage: 3.8+ MB\n"
          ],
          "name": "stdout"
        }
      ]
    },
    {
      "cell_type": "code",
      "metadata": {
        "colab": {
          "base_uri": "https://localhost:8080/"
        },
        "id": "ZGa4P0k0V4ZM",
        "outputId": "c1acfb04-f767-4da2-d222-9fc40e59a959"
      },
      "source": [
        "df.isnull().sum()"
      ],
      "execution_count": 92,
      "outputs": [
        {
          "output_type": "execute_result",
          "data": {
            "text/plain": [
              "nome            0\n",
              "renda           0\n",
              "idade           0\n",
              "etnia           0\n",
              "sexo            0\n",
              "casapropria     0\n",
              "outrasrendas    0\n",
              "estadocivil     0\n",
              "escolaridade    0\n",
              "default         0\n",
              "dtype: int64"
            ]
          },
          "metadata": {
            "tags": []
          },
          "execution_count": 92
        }
      ]
    },
    {
      "cell_type": "code",
      "metadata": {
        "colab": {
          "base_uri": "https://localhost:8080/",
          "height": 204
        },
        "id": "FniKPk5NWM0w",
        "outputId": "c89305fa-3a01-47cd-d2dc-ad7f32266cea"
      },
      "source": [
        "df.drop(['nome'],axis=1,inplace=True)\n",
        "df.head()"
      ],
      "execution_count": 93,
      "outputs": [
        {
          "output_type": "execute_result",
          "data": {
            "text/html": [
              "<div>\n",
              "<style scoped>\n",
              "    .dataframe tbody tr th:only-of-type {\n",
              "        vertical-align: middle;\n",
              "    }\n",
              "\n",
              "    .dataframe tbody tr th {\n",
              "        vertical-align: top;\n",
              "    }\n",
              "\n",
              "    .dataframe thead th {\n",
              "        text-align: right;\n",
              "    }\n",
              "</style>\n",
              "<table border=\"1\" class=\"dataframe\">\n",
              "  <thead>\n",
              "    <tr style=\"text-align: right;\">\n",
              "      <th></th>\n",
              "      <th>renda</th>\n",
              "      <th>idade</th>\n",
              "      <th>etnia</th>\n",
              "      <th>sexo</th>\n",
              "      <th>casapropria</th>\n",
              "      <th>outrasrendas</th>\n",
              "      <th>estadocivil</th>\n",
              "      <th>escolaridade</th>\n",
              "      <th>default</th>\n",
              "    </tr>\n",
              "  </thead>\n",
              "  <tbody>\n",
              "    <tr>\n",
              "      <th>0</th>\n",
              "      <td>3526.775946</td>\n",
              "      <td>40.188964</td>\n",
              "      <td>0</td>\n",
              "      <td>0</td>\n",
              "      <td>0</td>\n",
              "      <td>0</td>\n",
              "      <td>1</td>\n",
              "      <td>1</td>\n",
              "      <td>0</td>\n",
              "    </tr>\n",
              "    <tr>\n",
              "      <th>1</th>\n",
              "      <td>2778.325564</td>\n",
              "      <td>40.767674</td>\n",
              "      <td>1</td>\n",
              "      <td>0</td>\n",
              "      <td>0</td>\n",
              "      <td>0</td>\n",
              "      <td>0</td>\n",
              "      <td>0</td>\n",
              "      <td>1</td>\n",
              "    </tr>\n",
              "    <tr>\n",
              "      <th>2</th>\n",
              "      <td>3713.987220</td>\n",
              "      <td>42.495401</td>\n",
              "      <td>0</td>\n",
              "      <td>0</td>\n",
              "      <td>0</td>\n",
              "      <td>0</td>\n",
              "      <td>0</td>\n",
              "      <td>2</td>\n",
              "      <td>1</td>\n",
              "    </tr>\n",
              "    <tr>\n",
              "      <th>3</th>\n",
              "      <td>5079.662011</td>\n",
              "      <td>36.422451</td>\n",
              "      <td>0</td>\n",
              "      <td>0</td>\n",
              "      <td>1</td>\n",
              "      <td>0</td>\n",
              "      <td>1</td>\n",
              "      <td>0</td>\n",
              "      <td>0</td>\n",
              "    </tr>\n",
              "    <tr>\n",
              "      <th>4</th>\n",
              "      <td>2686.503464</td>\n",
              "      <td>40.992398</td>\n",
              "      <td>1</td>\n",
              "      <td>0</td>\n",
              "      <td>0</td>\n",
              "      <td>1</td>\n",
              "      <td>0</td>\n",
              "      <td>1</td>\n",
              "      <td>1</td>\n",
              "    </tr>\n",
              "  </tbody>\n",
              "</table>\n",
              "</div>"
            ],
            "text/plain": [
              "         renda      idade  etnia  ...  estadocivil  escolaridade  default\n",
              "0  3526.775946  40.188964      0  ...            1             1        0\n",
              "1  2778.325564  40.767674      1  ...            0             0        1\n",
              "2  3713.987220  42.495401      0  ...            0             2        1\n",
              "3  5079.662011  36.422451      0  ...            1             0        0\n",
              "4  2686.503464  40.992398      1  ...            0             1        1\n",
              "\n",
              "[5 rows x 9 columns]"
            ]
          },
          "metadata": {
            "tags": []
          },
          "execution_count": 93
        }
      ]
    },
    {
      "cell_type": "code",
      "metadata": {
        "colab": {
          "base_uri": "https://localhost:8080/",
          "height": 328
        },
        "id": "Iao3gU3SXOaf",
        "outputId": "adf4a73a-4a4a-48ad-9143-4524c63de014"
      },
      "source": [
        "df.corr()"
      ],
      "execution_count": 94,
      "outputs": [
        {
          "output_type": "execute_result",
          "data": {
            "text/html": [
              "<div>\n",
              "<style scoped>\n",
              "    .dataframe tbody tr th:only-of-type {\n",
              "        vertical-align: middle;\n",
              "    }\n",
              "\n",
              "    .dataframe tbody tr th {\n",
              "        vertical-align: top;\n",
              "    }\n",
              "\n",
              "    .dataframe thead th {\n",
              "        text-align: right;\n",
              "    }\n",
              "</style>\n",
              "<table border=\"1\" class=\"dataframe\">\n",
              "  <thead>\n",
              "    <tr style=\"text-align: right;\">\n",
              "      <th></th>\n",
              "      <th>renda</th>\n",
              "      <th>idade</th>\n",
              "      <th>etnia</th>\n",
              "      <th>sexo</th>\n",
              "      <th>casapropria</th>\n",
              "      <th>outrasrendas</th>\n",
              "      <th>estadocivil</th>\n",
              "      <th>escolaridade</th>\n",
              "      <th>default</th>\n",
              "    </tr>\n",
              "  </thead>\n",
              "  <tbody>\n",
              "    <tr>\n",
              "      <th>renda</th>\n",
              "      <td>1.000000</td>\n",
              "      <td>0.066969</td>\n",
              "      <td>-0.208057</td>\n",
              "      <td>-0.196445</td>\n",
              "      <td>0.314769</td>\n",
              "      <td>0.116165</td>\n",
              "      <td>0.098967</td>\n",
              "      <td>0.167226</td>\n",
              "      <td>-0.624217</td>\n",
              "    </tr>\n",
              "    <tr>\n",
              "      <th>idade</th>\n",
              "      <td>0.066969</td>\n",
              "      <td>1.000000</td>\n",
              "      <td>-0.031577</td>\n",
              "      <td>-0.031686</td>\n",
              "      <td>0.054420</td>\n",
              "      <td>0.026665</td>\n",
              "      <td>0.015630</td>\n",
              "      <td>0.028413</td>\n",
              "      <td>-0.111792</td>\n",
              "    </tr>\n",
              "    <tr>\n",
              "      <th>etnia</th>\n",
              "      <td>-0.208057</td>\n",
              "      <td>-0.031577</td>\n",
              "      <td>1.000000</td>\n",
              "      <td>0.106027</td>\n",
              "      <td>-0.169408</td>\n",
              "      <td>-0.060748</td>\n",
              "      <td>-0.055521</td>\n",
              "      <td>-0.082882</td>\n",
              "      <td>0.332546</td>\n",
              "    </tr>\n",
              "    <tr>\n",
              "      <th>sexo</th>\n",
              "      <td>-0.196445</td>\n",
              "      <td>-0.031686</td>\n",
              "      <td>0.106027</td>\n",
              "      <td>1.000000</td>\n",
              "      <td>-0.164694</td>\n",
              "      <td>-0.059103</td>\n",
              "      <td>-0.053261</td>\n",
              "      <td>-0.083515</td>\n",
              "      <td>0.322400</td>\n",
              "    </tr>\n",
              "    <tr>\n",
              "      <th>casapropria</th>\n",
              "      <td>0.314769</td>\n",
              "      <td>0.054420</td>\n",
              "      <td>-0.169408</td>\n",
              "      <td>-0.164694</td>\n",
              "      <td>1.000000</td>\n",
              "      <td>0.088997</td>\n",
              "      <td>0.086786</td>\n",
              "      <td>0.125409</td>\n",
              "      <td>-0.501735</td>\n",
              "    </tr>\n",
              "    <tr>\n",
              "      <th>outrasrendas</th>\n",
              "      <td>0.116165</td>\n",
              "      <td>0.026665</td>\n",
              "      <td>-0.060748</td>\n",
              "      <td>-0.059103</td>\n",
              "      <td>0.088997</td>\n",
              "      <td>1.000000</td>\n",
              "      <td>0.024674</td>\n",
              "      <td>0.046396</td>\n",
              "      <td>-0.179385</td>\n",
              "    </tr>\n",
              "    <tr>\n",
              "      <th>estadocivil</th>\n",
              "      <td>0.098967</td>\n",
              "      <td>0.015630</td>\n",
              "      <td>-0.055521</td>\n",
              "      <td>-0.053261</td>\n",
              "      <td>0.086786</td>\n",
              "      <td>0.024674</td>\n",
              "      <td>1.000000</td>\n",
              "      <td>0.039358</td>\n",
              "      <td>-0.155514</td>\n",
              "    </tr>\n",
              "    <tr>\n",
              "      <th>escolaridade</th>\n",
              "      <td>0.167226</td>\n",
              "      <td>0.028413</td>\n",
              "      <td>-0.082882</td>\n",
              "      <td>-0.083515</td>\n",
              "      <td>0.125409</td>\n",
              "      <td>0.046396</td>\n",
              "      <td>0.039358</td>\n",
              "      <td>1.000000</td>\n",
              "      <td>-0.258056</td>\n",
              "    </tr>\n",
              "    <tr>\n",
              "      <th>default</th>\n",
              "      <td>-0.624217</td>\n",
              "      <td>-0.111792</td>\n",
              "      <td>0.332546</td>\n",
              "      <td>0.322400</td>\n",
              "      <td>-0.501735</td>\n",
              "      <td>-0.179385</td>\n",
              "      <td>-0.155514</td>\n",
              "      <td>-0.258056</td>\n",
              "      <td>1.000000</td>\n",
              "    </tr>\n",
              "  </tbody>\n",
              "</table>\n",
              "</div>"
            ],
            "text/plain": [
              "                 renda     idade     etnia  ...  estadocivil  escolaridade   default\n",
              "renda         1.000000  0.066969 -0.208057  ...     0.098967      0.167226 -0.624217\n",
              "idade         0.066969  1.000000 -0.031577  ...     0.015630      0.028413 -0.111792\n",
              "etnia        -0.208057 -0.031577  1.000000  ...    -0.055521     -0.082882  0.332546\n",
              "sexo         -0.196445 -0.031686  0.106027  ...    -0.053261     -0.083515  0.322400\n",
              "casapropria   0.314769  0.054420 -0.169408  ...     0.086786      0.125409 -0.501735\n",
              "outrasrendas  0.116165  0.026665 -0.060748  ...     0.024674      0.046396 -0.179385\n",
              "estadocivil   0.098967  0.015630 -0.055521  ...     1.000000      0.039358 -0.155514\n",
              "escolaridade  0.167226  0.028413 -0.082882  ...     0.039358      1.000000 -0.258056\n",
              "default      -0.624217 -0.111792  0.332546  ...    -0.155514     -0.258056  1.000000\n",
              "\n",
              "[9 rows x 9 columns]"
            ]
          },
          "metadata": {
            "tags": []
          },
          "execution_count": 94
        }
      ]
    },
    {
      "cell_type": "code",
      "metadata": {
        "id": "39QTjnDgXliK"
      },
      "source": [
        "#remove from corr\n",
        "#df.drop(['sexo','etnia','idade'],axis=1,inplace=True)\n",
        "#df.corr()"
      ],
      "execution_count": 95,
      "outputs": []
    },
    {
      "cell_type": "code",
      "metadata": {
        "id": "4jvhYtrtWuEc"
      },
      "source": [
        "X = df.iloc[:,[0,1,2,3,4,5,6,7]].values\n",
        "y = df.iloc[:,8].values"
      ],
      "execution_count": 96,
      "outputs": []
    },
    {
      "cell_type": "code",
      "metadata": {
        "id": "N3ScvcZLXFtX"
      },
      "source": [
        "#Normalização do Conjunto\n",
        "X = StandardScaler().fit_transform(X)"
      ],
      "execution_count": 97,
      "outputs": []
    },
    {
      "cell_type": "code",
      "metadata": {
        "id": "RK6c-YYXYTzD"
      },
      "source": [
        "X_train, X_test, y_train, y_test = train_test_split(X, y, test_size = .3, random_state=42)"
      ],
      "execution_count": 98,
      "outputs": []
    },
    {
      "cell_type": "code",
      "metadata": {
        "id": "WSXfNdUFYvID"
      },
      "source": [
        "classificador = SVC(kernel=\"sigmoid\", gamma=2)\n",
        "#classificador = SVC(gamma=2, C=1)\n",
        "classificador.fit(X_train, y_train)\n",
        "y_pred = classificador.predict(X_test)"
      ],
      "execution_count": 99,
      "outputs": []
    },
    {
      "cell_type": "code",
      "metadata": {
        "colab": {
          "base_uri": "https://localhost:8080/"
        },
        "id": "wvHdaMH7Ywu7",
        "outputId": "f0687edf-22e4-44d6-d76a-cd464212b4bb"
      },
      "source": [
        "print(classification_report(y_test, y_pred))\n",
        "print(accuracy_score(y_test, y_pred))"
      ],
      "execution_count": 100,
      "outputs": [
        {
          "output_type": "stream",
          "text": [
            "              precision    recall  f1-score   support\n",
            "\n",
            "           0       0.79      0.79      0.79      8227\n",
            "           1       0.75      0.74      0.74      6773\n",
            "\n",
            "    accuracy                           0.77     15000\n",
            "   macro avg       0.77      0.77      0.77     15000\n",
            "weighted avg       0.77      0.77      0.77     15000\n",
            "\n",
            "0.7681333333333333\n"
          ],
          "name": "stdout"
        }
      ]
    },
    {
      "cell_type": "code",
      "metadata": {
        "colab": {
          "base_uri": "https://localhost:8080/",
          "height": 330
        },
        "id": "md1faYmiYyQq",
        "outputId": "8f71eab4-866a-4fd8-9aee-ff55646d50b9"
      },
      "source": [
        "cm = confusion_matrix(y_test, y_pred)\n",
        "print(cm)\n",
        "plot_confusion_matrix(classificador, X_test, y_test, normalize = 'true')"
      ],
      "execution_count": 101,
      "outputs": [
        {
          "output_type": "stream",
          "text": [
            "[[6533 1694]\n",
            " [1784 4989]]\n"
          ],
          "name": "stdout"
        },
        {
          "output_type": "execute_result",
          "data": {
            "text/plain": [
              "<sklearn.metrics._plot.confusion_matrix.ConfusionMatrixDisplay at 0x7f3f1448d080>"
            ]
          },
          "metadata": {
            "tags": []
          },
          "execution_count": 101
        },
        {
          "output_type": "display_data",
          "data": {
            "image/png": "[encoded data removed]",
            "text/plain": [
              "<Figure size 432x288 with 2 Axes>"
            ]
          },
          "metadata": {
            "tags": [],
            "needs_background": "light"
          }
        }
      ]
    },
    {
      "cell_type": "code",
      "metadata": {
        "colab": {
          "base_uri": "https://localhost:8080/"
        },
        "id": "7D23VkSicDI-",
        "outputId": "6fafb51e-7971-46c6-a981-92bbc14d65f1"
      },
      "source": [
        "from joblib import dump, load\n",
        "dump(df, 'modelo02.joblib') "
      ],
      "execution_count": 103,
      "outputs": [
        {
          "output_type": "execute_result",
          "data": {
            "text/plain": [
              "['modelo02.joblib']"
            ]
          },
          "metadata": {
            "tags": []
          },
          "execution_count": 103
        }
      ]
    },
    {
      "cell_type": "code",
      "metadata": {
        "id": "gPw3xR94cj0P"
      },
      "source": [
        ""
      ],
      "execution_count": 102,
      "outputs": []
    }
  ]
}